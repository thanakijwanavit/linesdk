{
 "cells": [
  {
   "cell_type": "code",
   "execution_count": null,
   "metadata": {},
   "outputs": [],
   "source": [
    "# default_exp linesdk"
   ]
  },
  {
   "cell_type": "code",
   "execution_count": null,
   "metadata": {},
   "outputs": [],
   "source": [
    "#hide\n",
    "import pickle\n",
    "accessKey = ''\n",
    "keypath = '/Users/nic/.lineAccessKey'\n",
    "if accessKey :\n",
    "  with open (keypath, 'wb') as f:\n",
    "    pickle.dump({\n",
    "        'accessKey': accessKey\n",
    "    }, f)\n",
    "with open(keypath, 'rb') as f:\n",
    "  creden = pickle.load(f)\n",
    "accessKey = creden['accessKey']\n",
    "# print(accessKey)"
   ]
  },
  {
   "cell_type": "markdown",
   "metadata": {},
   "source": [
    "# Products\n",
    "\n",
    "> interact with product apis"
   ]
  },
  {
   "cell_type": "code",
   "execution_count": null,
   "metadata": {},
   "outputs": [],
   "source": [
    "#hide\n",
    "from nbdev.showdoc import *"
   ]
  },
  {
   "cell_type": "code",
   "execution_count": null,
   "metadata": {},
   "outputs": [],
   "source": [
    "#export\n",
    "from lambdasdk.lambdasdk import Lambda\n",
    "from linebot.models import TextSendMessage\n",
    "from linebot import LineBotApi\n",
    "import bz2,  boto3, base64, logging"
   ]
  },
  {
   "cell_type": "code",
   "execution_count": null,
   "metadata": {},
   "outputs": [],
   "source": [
    "#hide\n",
    "# logging.basicConfig(level=logging.INFO)"
   ]
  },
  {
   "cell_type": "code",
   "execution_count": null,
   "metadata": {},
   "outputs": [],
   "source": [
    "#export\n",
    "class FunctionNames:\n",
    "  '''determine function and resources name based on branchName'''\n",
    "  def __init__(self, branchName:str = 'dev-manual'):\n",
    "    self.branchName = branchName\n",
    "  dumpToS3 = lambda self: f'product-dump-s3-{self.branchName}'\n",
    "  updateProduct = lambda self: f'product-update-{self.branchName}'\n",
    "  updateS3 = lambda self: f'product-update-s3-{self.branchName}'\n",
    "  singleQuery = lambda self: f'product-get-{self.branchName}'\n",
    "  allQuery = lambda self: f'product-get-all-{self.branchName}'\n",
    "  inputBucket = lambda self: f'input-product-bucket-{self.branchName}'\n",
    "  inventoryBucket = lambda self: f'product-bucket-{self.branchName}'\n",
    "  "
   ]
  },
  {
   "cell_type": "code",
   "execution_count": null,
   "metadata": {},
   "outputs": [],
   "source": [
    "#export\n",
    "class Line:\n",
    "  '''\n",
    "    the main class for interacting with product endpoint\n",
    "    user/pw are optional\n",
    "  '''\n",
    "  def __init__(self, \n",
    "               accessKey:str = ''):\n",
    "    self.line_bot_api = LineBotApi(accessKey)\n",
    "    \n",
    "  def send(self, message:str = '', roomId:str=''):\n",
    "    self.line_bot_api.push_message(roomId, TextSendMessage(text = message))\n",
    "    return True\n",
    "  @staticmethod\n",
    "  def lambdaSend(event, _):\n",
    "    line = Line(accessKey = event['accessKey'])\n",
    "    line.send(message = event['message'], roomId = event['roomId'])\n",
    "    \n"
   ]
  },
  {
   "cell_type": "markdown",
   "metadata": {},
   "source": [
    "# Testing"
   ]
  },
  {
   "cell_type": "markdown",
   "metadata": {},
   "source": [
    "## generate dummy data for testing"
   ]
  },
  {
   "cell_type": "code",
   "execution_count": null,
   "metadata": {},
   "outputs": [],
   "source": [
    "#hide\n",
    "sampleInput = {\n",
    "  \"message\": \"helloWorld\",\n",
    "  \"roomId\": 'C9ba1d024ed36979222a2a2a8f67cfc9a' ,\n",
    "  \"accessKey\": accessKey\n",
    "}\n"
   ]
  },
  {
   "cell_type": "markdown",
   "metadata": {},
   "source": [
    "## Create main class object"
   ]
  },
  {
   "cell_type": "code",
   "execution_count": null,
   "metadata": {},
   "outputs": [],
   "source": [
    "line = Line(accessKey = accessKey)"
   ]
  },
  {
   "cell_type": "markdown",
   "metadata": {},
   "source": [
    "## sendMessage"
   ]
  },
  {
   "cell_type": "code",
   "execution_count": null,
   "metadata": {},
   "outputs": [
    {
     "name": "stdout",
     "output_type": "stream",
     "text": [
      "True\n",
      "CPU times: user 15.2 ms, sys: 2.38 ms, total: 17.6 ms\n",
      "Wall time: 339 ms\n"
     ]
    }
   ],
   "source": [
    "%%time\n",
    "result = line.send(roomId = sampleInput['roomId'], message= sampleInput['message'])\n",
    "print(result)"
   ]
  },
  {
   "cell_type": "markdown",
   "metadata": {},
   "source": [
    "## Lambda"
   ]
  },
  {
   "cell_type": "code",
   "execution_count": null,
   "metadata": {},
   "outputs": [
    {
     "name": "stdout",
     "output_type": "stream",
     "text": [
      "CPU times: user 13.2 ms, sys: 2.09 ms, total: 15.3 ms\n",
      "Wall time: 798 ms\n"
     ]
    }
   ],
   "source": [
    "%%time\n",
    "result = Line.lambdaSend(sampleInput, '')"
   ]
  },
  {
   "cell_type": "code",
   "execution_count": null,
   "metadata": {},
   "outputs": [],
   "source": []
  }
 ],
 "metadata": {
  "kernelspec": {
   "display_name": "Python 3",
   "language": "python",
   "name": "python3"
  }
 },
 "nbformat": 4,
 "nbformat_minor": 4
}
