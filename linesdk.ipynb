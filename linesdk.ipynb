{
 "cells": [
  {
   "cell_type": "code",
   "execution_count": null,
   "metadata": {},
   "outputs": [],
   "source": [
    "# default_exp linesdk"
   ]
  },
  {
   "cell_type": "code",
   "execution_count": null,
   "metadata": {},
   "outputs": [],
   "source": [
    "#hide\n",
    "import pickle\n",
    "accessKey = ''\n",
    "keypath = '/Users/nic/.lineAccessKey'\n",
    "if accessKey :\n",
    "  with open (keypath, 'wb') as f:\n",
    "    pickle.dump({\n",
    "        'accessKey': accessKey\n",
    "    }, f)\n",
    "with open(keypath, 'rb') as f:\n",
    "  creden = pickle.load(f)\n",
    "accessKey = creden['accessKey']\n",
    "# print(accessKey)"
   ]
  },
  {
   "cell_type": "code",
   "execution_count": null,
   "metadata": {},
   "outputs": [],
   "source": [
    "#hide\n",
    "import pickle\n",
    "credLocation = '/Users/nic/.lineLambda'\n",
    "user =''\n",
    "pw = ''\n",
    "if user and pw:\n",
    "  with open (credLocation , 'wb') as f:\n",
    "    pickle.dump({\n",
    "        'user': user,\n",
    "        'pw': pw\n",
    "    }, f)\n",
    "with open(credLocation , 'rb') as f:\n",
    "  creden = pickle.load(f)\n",
    "  PW = creden['pw']\n",
    "  USER = creden['user']\n"
   ]
  },
  {
   "cell_type": "markdown",
   "metadata": {},
   "source": [
    "# lineSdk\n",
    "\n",
    "> interact with product apis"
   ]
  },
  {
   "cell_type": "code",
   "execution_count": 4,
   "metadata": {},
   "outputs": [],
   "source": [
    "#hide\n",
    "from nbdev.showdoc import *"
   ]
  },
  {
   "cell_type": "code",
   "execution_count": 5,
   "metadata": {},
   "outputs": [],
   "source": [
    "#export\n",
    "from lambdasdk.lambdasdk import Lambda\n",
    "from linebot.models import TextSendMessage\n",
    "from linebot import LineBotApi\n",
    "from json import JSONDecodeError\n",
    "import bz2,  boto3, base64, logging, os"
   ]
  },
  {
   "cell_type": "code",
   "execution_count": 6,
   "metadata": {},
   "outputs": [],
   "source": [
    "#export\n",
    "class FunctionNames:\n",
    "  '''determine function and resources name based on branchName'''\n",
    "  def __init__(self, branchName:str = 'dev-manual'):\n",
    "    self.branchName = branchName\n",
    "  dumpToS3 = lambda self: f'product-dump-s3-{self.branchName}'\n",
    "  updateProduct = lambda self: f'product-update-{self.branchName}'\n",
    "  updateS3 = lambda self: f'product-update-s3-{self.branchName}'\n",
    "  singleQuery = lambda self: f'product-get-{self.branchName}'\n",
    "  allQuery = lambda self: f'product-get-all-{self.branchName}'\n",
    "  inputBucket = lambda self: f'input-product-bucket-{self.branchName}'\n",
    "  inventoryBucket = lambda self: f'product-bucket-{self.branchName}'\n",
    "  "
   ]
  },
  {
   "cell_type": "code",
   "execution_count": 7,
   "metadata": {},
   "outputs": [],
   "source": [
    "#export\n",
    "class Line:\n",
    "  '''\n",
    "    the main class for interacting with product endpoint\n",
    "    user/pw are optional\n",
    "  '''\n",
    "  def __init__(self, \n",
    "               accessKey:str = ''):\n",
    "    self.line_bot_api = LineBotApi(accessKey)\n",
    "    \n",
    "  def send(self, message:str = '', roomId:str=''):\n",
    "    self.line_bot_api.push_message(roomId, TextSendMessage(text = message))\n",
    "    return True\n",
    "  \n",
    "  @staticmethod\n",
    "  def lambdaSend(event, _):\n",
    "    line = Line(accessKey = os.environ.get('LINEACCESSKEY') or event['accessKey'])\n",
    "    line.send(message = event['message'], roomId = event['roomId'])\n",
    "    \n",
    "class LineLambda:\n",
    "  def __init__(self, user = None, pw=None, region = 'ap-southeast-1'):\n",
    "    self.user = user\n",
    "    self.pw = pw\n",
    "    self.region = region\n",
    "    \n",
    "  def send(self, message:str = '', roomId:str='', \n",
    "           functionName = 'send-line',\n",
    "           accessKey = ''\n",
    "          ):\n",
    "    lambda_ = Lambda(\n",
    "      user = self.user,\n",
    "      pw = self.pw,\n",
    "      region = self.region\n",
    "    )\n",
    "    try:\n",
    "      lambda_.invoke(\n",
    "        functionName = functionName,\n",
    "        input = {\n",
    "          'message': message,\n",
    "          'roomId': roomId,\n",
    "          'accessKey': accessKey\n",
    "        },\n",
    "        invocationType = 'Event'\n",
    "      )\n",
    "    except JSONDecodeError as e:\n",
    "      logging.exception('maybe there is no response')\n",
    "    return True"
   ]
  },
  {
   "cell_type": "markdown",
   "metadata": {},
   "source": [
    "# Testing"
   ]
  },
  {
   "cell_type": "markdown",
   "metadata": {},
   "source": [
    "## generate dummy data for testing"
   ]
  },
  {
   "cell_type": "code",
   "execution_count": 8,
   "metadata": {},
   "outputs": [],
   "source": [
    "#hide\n",
    "sampleInput = {\n",
    "  \"message\": \"helloWorld\",\n",
    "  \"roomId\": 'C9ba1d024ed36979222a2a2a8f67cfc9a' ,\n",
    "  \"accessKey\": accessKey\n",
    "}\n"
   ]
  },
  {
   "cell_type": "markdown",
   "metadata": {},
   "source": [
    "## Create main class object"
   ]
  },
  {
   "cell_type": "code",
   "execution_count": 9,
   "metadata": {},
   "outputs": [],
   "source": [
    "line = Line(accessKey = accessKey)"
   ]
  },
  {
   "cell_type": "markdown",
   "metadata": {},
   "source": [
    "## sendMessage"
   ]
  },
  {
   "cell_type": "code",
   "execution_count": 10,
   "metadata": {},
   "outputs": [
    {
     "name": "stdout",
     "output_type": "stream",
     "text": [
      "True\n",
      "CPU times: user 17 ms, sys: 5.38 ms, total: 22.4 ms\n",
      "Wall time: 533 ms\n"
     ]
    }
   ],
   "source": [
    "%%time\n",
    "result = line.send(roomId = sampleInput['roomId'], message= sampleInput['message'])\n",
    "print(result)"
   ]
  },
  {
   "cell_type": "markdown",
   "metadata": {},
   "source": [
    "## Lambda"
   ]
  },
  {
   "cell_type": "code",
   "execution_count": 11,
   "metadata": {},
   "outputs": [
    {
     "name": "stdout",
     "output_type": "stream",
     "text": [
      "CPU times: user 14.7 ms, sys: 2.15 ms, total: 16.9 ms\n",
      "Wall time: 213 ms\n"
     ]
    }
   ],
   "source": [
    "%%time\n",
    "result = Line.lambdaSend(sampleInput, '')"
   ]
  },
  {
   "cell_type": "markdown",
   "metadata": {},
   "source": [
    "# Call function using deployed Lambda function"
   ]
  },
  {
   "cell_type": "code",
   "execution_count": 12,
   "metadata": {},
   "outputs": [
    {
     "name": "stdout",
     "output_type": "stream",
     "text": [
      "CPU times: user 38.6 ms, sys: 16.9 ms, total: 55.5 ms\n",
      "Wall time: 235 ms\n"
     ]
    },
    {
     "data": {
      "text/plain": [
       "True"
      ]
     },
     "execution_count": 12,
     "metadata": {},
     "output_type": "execute_result"
    }
   ],
   "source": [
    "%%time\n",
    "lineLambda = LineLambda(USER, PW)\n",
    "lineLambda.send(message='hello', roomId = sampleInput['roomId'])"
   ]
  },
  {
   "cell_type": "code",
   "execution_count": null,
   "metadata": {},
   "outputs": [],
   "source": []
  }
 ],
 "metadata": {
  "kernelspec": {
   "display_name": "Python 3",
   "language": "python",
   "name": "python3"
  },
  "language_info": {
   "codemirror_mode": {
    "name": "ipython",
    "version": 3
   },
   "file_extension": ".py",
   "mimetype": "text/x-python",
   "name": "python",
   "nbconvert_exporter": "python",
   "pygments_lexer": "ipython3",
   "version": "3.8.1"
  }
 },
 "nbformat": 4,
 "nbformat_minor": 4
}
