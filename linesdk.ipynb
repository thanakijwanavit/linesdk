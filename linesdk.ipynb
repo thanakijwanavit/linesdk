{
 "cells": [
  {
   "cell_type": "code",
   "execution_count": null,
   "metadata": {},
   "outputs": [],
   "source": [
    "# default_exp linesdk"
   ]
  },
  {
   "cell_type": "code",
   "execution_count": null,
   "metadata": {},
   "outputs": [],
   "source": [
    "#hide\n",
    "import pickle, os\n",
    "accessKey = ''\n",
    "keypath = os.path.join(os.path.expanduser('~'), '.lineAccessKey')\n",
    "if accessKey :\n",
    "  with open (keypath, 'wb') as f:\n",
    "    pickle.dump({\n",
    "        'accessKey': accessKey\n",
    "    }, f)\n",
    "with open(keypath, 'rb') as f:\n",
    "  creden = pickle.load(f)\n",
    "accessKey = creden['accessKey']\n",
    "# print(accessKey)"
   ]
  },
  {
   "cell_type": "code",
   "execution_count": null,
   "metadata": {},
   "outputs": [],
   "source": [
    "#hide\n",
    "import pickle\n",
    "credLocation = '/Users/nic/.lineLambda'\n",
    "user =''\n",
    "pw = ''\n",
    "if user and pw:\n",
    "  with open (credLocation , 'wb') as f:\n",
    "    pickle.dump({\n",
    "        'user': user,\n",
    "        'pw': pw\n",
    "    }, f)\n",
    "if os.path.exists(credLocation):\n",
    "  with open(credLocation , 'rb') as f:\n",
    "    creden = pickle.load(f)\n",
    "    PW = creden['pw']\n",
    "    USER = creden['user']\n",
    "\n",
    "else:\n",
    "  PW = None\n",
    "  USER = None\n"
   ]
  },
  {
   "cell_type": "markdown",
   "metadata": {},
   "source": [
    "# lineSdk\n",
    "\n",
    "> interact with product apis"
   ]
  },
  {
   "cell_type": "code",
   "execution_count": null,
   "metadata": {},
   "outputs": [],
   "source": [
    "#hide\n",
    "from nbdev.showdoc import *"
   ]
  },
  {
   "cell_type": "code",
   "execution_count": null,
   "metadata": {},
   "outputs": [],
   "source": [
    "#export\n",
    "from lambdasdk.lambdasdk import Lambda\n",
    "from linebot.models import TextSendMessage\n",
    "from linebot import LineBotApi\n",
    "from json import JSONDecodeError\n",
    "from requests import post\n",
    "import bz2,  boto3, base64, logging, os"
   ]
  },
  {
   "cell_type": "code",
   "execution_count": null,
   "metadata": {},
   "outputs": [],
   "source": [
    "#export\n",
    "class FunctionNames:\n",
    "  '''determine function and resources name based on branchName'''\n",
    "  def __init__(self, branchName:str = 'dev-manual'):\n",
    "    self.branchName = branchName\n",
    "  dumpToS3 = lambda self: f'product-dump-s3-{self.branchName}'\n",
    "  updateProduct = lambda self: f'product-update-{self.branchName}'\n",
    "  updateS3 = lambda self: f'product-update-s3-{self.branchName}'\n",
    "  singleQuery = lambda self: f'product-get-{self.branchName}'\n",
    "  allQuery = lambda self: f'product-get-all-{self.branchName}'\n",
    "  inputBucket = lambda self: f'input-product-bucket-{self.branchName}'\n",
    "  inventoryBucket = lambda self: f'product-bucket-{self.branchName}'\n",
    "  "
   ]
  },
  {
   "cell_type": "code",
   "execution_count": null,
   "metadata": {},
   "outputs": [],
   "source": [
    "#export\n",
    "class Line:\n",
    "  '''\n",
    "    the main class for interacting with product endpoint\n",
    "    user/pw are optional\n",
    "  '''\n",
    "  def __init__(self, \n",
    "               accessKey:str = ''):\n",
    "    self.line_bot_api = LineBotApi(accessKey)\n",
    "    self.accessKey = accessKey\n",
    "    \n",
    "  def send(self, message:str = '', roomId:str=''):\n",
    "    self.line_bot_api.push_message(roomId, TextSendMessage(text = message))\n",
    "    return True\n",
    "  \n",
    "  def sendNotify(self, message:str = '', roomId:str='', token = None):\n",
    "    headers = {'Authorization':f'Bearer {token or self.accessKey}'}\n",
    "    return post('https://notify-api.line.me/api/notify',\n",
    "                headers=headers, data = {'message': message})\n",
    "    \n",
    "  @staticmethod\n",
    "  def lambdaSend(event, _):\n",
    "    line = Line(accessKey = os.environ.get('LINEACCESSKEY') or event['accessKey'])\n",
    "    line.send(message = event['message'], roomId = event['roomId'])\n",
    "    \n",
    "  @staticmethod\n",
    "  def lambdaNotify(event, _):\n",
    "    line = Line()\n",
    "    line.sendNotify(message = event['message'], token = event['token'])\n",
    "    \n",
    "class LineLambda:\n",
    "  def __init__(self, user = None, pw=None, region = 'ap-southeast-1'):\n",
    "    self.user = user\n",
    "    self.pw = pw\n",
    "    self.region = region\n",
    "  def notify(self, message:str = '', token:str = '', functionName = 'line-notify'):\n",
    "    lambda_ = Lambda(user=self.user, pw=self.pw, region=self.region)\n",
    "    try:\n",
    "      lambda_.invoke(functionName=functionName,invocationType='Event',\n",
    "                    input = {'message':message,'token':token})\n",
    "    except JSONDecodeError as e: logging.exception('maybe there is no response')\n",
    "    return True\n",
    "    \n",
    "  def send(self, message:str = '', roomId:str='', \n",
    "           functionName = 'send-line', accessKey = '' ):\n",
    "    lambda_ = Lambda( user = self.user, pw = self.pw, region = self.region )\n",
    "    try:\n",
    "      lambda_.invoke( functionName = functionName,\n",
    "        input = {\n",
    "          'message': message,\n",
    "          'roomId': roomId,\n",
    "          'accessKey': accessKey\n",
    "        }, invocationType = 'Event' )\n",
    "    except JSONDecodeError as e: logging.exception('maybe there is no response')\n",
    "    return True"
   ]
  },
  {
   "cell_type": "markdown",
   "metadata": {},
   "source": [
    "# Testing"
   ]
  },
  {
   "cell_type": "markdown",
   "metadata": {},
   "source": [
    "## generate dummy data for testing"
   ]
  },
  {
   "cell_type": "code",
   "execution_count": null,
   "metadata": {},
   "outputs": [],
   "source": [
    "#hide\n",
    "sampleInput = {\n",
    "  \"message\": \"helloWorld\",\n",
    "  \"roomId\": 'C9ba1d024ed36979222a2a2a8f67cfc9a' ,\n",
    "  \"accessKey\": accessKey\n",
    "}\n"
   ]
  },
  {
   "cell_type": "markdown",
   "metadata": {},
   "source": [
    "## Create main class object"
   ]
  },
  {
   "cell_type": "code",
   "execution_count": null,
   "metadata": {},
   "outputs": [],
   "source": [
    "line = Line(accessKey = accessKey)"
   ]
  },
  {
   "cell_type": "markdown",
   "metadata": {},
   "source": [
    "## sendMessage"
   ]
  },
  {
   "cell_type": "code",
   "execution_count": null,
   "metadata": {},
   "outputs": [
    {
     "ename": "LineBotApiError",
     "evalue": "LineBotApiError: status_code=429, request_id=f8dbe399-7e08-4b34-88f1-9389e32685da, error_response={\"details\": [], \"message\": \"You have reached your monthly limit.\"}, headers={'Server': 'openresty', 'Content-Type': 'application/json', 'x-line-request-id': 'f8dbe399-7e08-4b34-88f1-9389e32685da', 'x-content-type-options': 'nosniff', 'x-xss-protection': '1; mode=block', 'x-frame-options': 'DENY', 'Content-Length': '50', 'Expires': 'Mon, 19 Oct 2020 05:03:02 GMT', 'Cache-Control': 'max-age=0, no-cache, no-store', 'Pragma': 'no-cache', 'Date': 'Mon, 19 Oct 2020 05:03:02 GMT', 'Connection': 'close'}",
     "output_type": "error",
     "traceback": [
      "\u001b[0;31m---------------------------------------------------------------------------\u001b[0m",
      "\u001b[0;31mLineBotApiError\u001b[0m                           Traceback (most recent call last)",
      "\u001b[0;32m<timed exec>\u001b[0m in \u001b[0;36m<module>\u001b[0;34m\u001b[0m\n",
      "\u001b[0;32m<ipython-input-14-655cd6ee6e8c>\u001b[0m in \u001b[0;36msend\u001b[0;34m(self, message, roomId)\u001b[0m\n\u001b[1;32m     11\u001b[0m \u001b[0;34m\u001b[0m\u001b[0m\n\u001b[1;32m     12\u001b[0m   \u001b[0;32mdef\u001b[0m \u001b[0msend\u001b[0m\u001b[0;34m(\u001b[0m\u001b[0mself\u001b[0m\u001b[0;34m,\u001b[0m \u001b[0mmessage\u001b[0m\u001b[0;34m:\u001b[0m\u001b[0mstr\u001b[0m \u001b[0;34m=\u001b[0m \u001b[0;34m''\u001b[0m\u001b[0;34m,\u001b[0m \u001b[0mroomId\u001b[0m\u001b[0;34m:\u001b[0m\u001b[0mstr\u001b[0m\u001b[0;34m=\u001b[0m\u001b[0;34m''\u001b[0m\u001b[0;34m)\u001b[0m\u001b[0;34m:\u001b[0m\u001b[0;34m\u001b[0m\u001b[0;34m\u001b[0m\u001b[0m\n\u001b[0;32m---> 13\u001b[0;31m     \u001b[0mself\u001b[0m\u001b[0;34m.\u001b[0m\u001b[0mline_bot_api\u001b[0m\u001b[0;34m.\u001b[0m\u001b[0mpush_message\u001b[0m\u001b[0;34m(\u001b[0m\u001b[0mroomId\u001b[0m\u001b[0;34m,\u001b[0m \u001b[0mTextSendMessage\u001b[0m\u001b[0;34m(\u001b[0m\u001b[0mtext\u001b[0m \u001b[0;34m=\u001b[0m \u001b[0mmessage\u001b[0m\u001b[0;34m)\u001b[0m\u001b[0;34m)\u001b[0m\u001b[0;34m\u001b[0m\u001b[0;34m\u001b[0m\u001b[0m\n\u001b[0m\u001b[1;32m     14\u001b[0m     \u001b[0;32mreturn\u001b[0m \u001b[0;32mTrue\u001b[0m\u001b[0;34m\u001b[0m\u001b[0;34m\u001b[0m\u001b[0m\n\u001b[1;32m     15\u001b[0m \u001b[0;34m\u001b[0m\u001b[0m\n",
      "\u001b[0;32m~/anaconda3/envs/python38/lib/python3.8/site-packages/linebot/api.py\u001b[0m in \u001b[0;36mpush_message\u001b[0;34m(self, to, messages, retry_key, notification_disabled, timeout)\u001b[0m\n\u001b[1;32m    145\u001b[0m         }\n\u001b[1;32m    146\u001b[0m \u001b[0;34m\u001b[0m\u001b[0m\n\u001b[0;32m--> 147\u001b[0;31m         self._post(\n\u001b[0m\u001b[1;32m    148\u001b[0m             \u001b[0;34m'/v2/bot/message/push'\u001b[0m\u001b[0;34m,\u001b[0m \u001b[0mdata\u001b[0m\u001b[0;34m=\u001b[0m\u001b[0mjson\u001b[0m\u001b[0;34m.\u001b[0m\u001b[0mdumps\u001b[0m\u001b[0;34m(\u001b[0m\u001b[0mdata\u001b[0m\u001b[0;34m)\u001b[0m\u001b[0;34m,\u001b[0m \u001b[0mtimeout\u001b[0m\u001b[0;34m=\u001b[0m\u001b[0mtimeout\u001b[0m\u001b[0;34m\u001b[0m\u001b[0;34m\u001b[0m\u001b[0m\n\u001b[1;32m    149\u001b[0m         )\n",
      "\u001b[0;32m~/anaconda3/envs/python38/lib/python3.8/site-packages/linebot/api.py\u001b[0m in \u001b[0;36m_post\u001b[0;34m(self, path, endpoint, data, headers, timeout)\u001b[0m\n\u001b[1;32m   1151\u001b[0m         )\n\u001b[1;32m   1152\u001b[0m \u001b[0;34m\u001b[0m\u001b[0m\n\u001b[0;32m-> 1153\u001b[0;31m         \u001b[0mself\u001b[0m\u001b[0;34m.\u001b[0m\u001b[0m__check_error\u001b[0m\u001b[0;34m(\u001b[0m\u001b[0mresponse\u001b[0m\u001b[0;34m)\u001b[0m\u001b[0;34m\u001b[0m\u001b[0;34m\u001b[0m\u001b[0m\n\u001b[0m\u001b[1;32m   1154\u001b[0m         \u001b[0;32mreturn\u001b[0m \u001b[0mresponse\u001b[0m\u001b[0;34m\u001b[0m\u001b[0;34m\u001b[0m\u001b[0m\n\u001b[1;32m   1155\u001b[0m \u001b[0;34m\u001b[0m\u001b[0m\n",
      "\u001b[0;32m~/anaconda3/envs/python38/lib/python3.8/site-packages/linebot/api.py\u001b[0m in \u001b[0;36m__check_error\u001b[0;34m(response)\u001b[0m\n\u001b[1;32m   1173\u001b[0m             \u001b[0;32mpass\u001b[0m\u001b[0;34m\u001b[0m\u001b[0;34m\u001b[0m\u001b[0m\n\u001b[1;32m   1174\u001b[0m         \u001b[0;32melse\u001b[0m\u001b[0;34m:\u001b[0m\u001b[0;34m\u001b[0m\u001b[0;34m\u001b[0m\u001b[0m\n\u001b[0;32m-> 1175\u001b[0;31m             raise LineBotApiError(\n\u001b[0m\u001b[1;32m   1176\u001b[0m                 \u001b[0mstatus_code\u001b[0m\u001b[0;34m=\u001b[0m\u001b[0mresponse\u001b[0m\u001b[0;34m.\u001b[0m\u001b[0mstatus_code\u001b[0m\u001b[0;34m,\u001b[0m\u001b[0;34m\u001b[0m\u001b[0;34m\u001b[0m\u001b[0m\n\u001b[1;32m   1177\u001b[0m                 \u001b[0mheaders\u001b[0m\u001b[0;34m=\u001b[0m\u001b[0mdict\u001b[0m\u001b[0;34m(\u001b[0m\u001b[0mresponse\u001b[0m\u001b[0;34m.\u001b[0m\u001b[0mheaders\u001b[0m\u001b[0;34m.\u001b[0m\u001b[0mitems\u001b[0m\u001b[0;34m(\u001b[0m\u001b[0;34m)\u001b[0m\u001b[0;34m)\u001b[0m\u001b[0;34m,\u001b[0m\u001b[0;34m\u001b[0m\u001b[0;34m\u001b[0m\u001b[0m\n",
      "\u001b[0;31mLineBotApiError\u001b[0m: LineBotApiError: status_code=429, request_id=f8dbe399-7e08-4b34-88f1-9389e32685da, error_response={\"details\": [], \"message\": \"You have reached your monthly limit.\"}, headers={'Server': 'openresty', 'Content-Type': 'application/json', 'x-line-request-id': 'f8dbe399-7e08-4b34-88f1-9389e32685da', 'x-content-type-options': 'nosniff', 'x-xss-protection': '1; mode=block', 'x-frame-options': 'DENY', 'Content-Length': '50', 'Expires': 'Mon, 19 Oct 2020 05:03:02 GMT', 'Cache-Control': 'max-age=0, no-cache, no-store', 'Pragma': 'no-cache', 'Date': 'Mon, 19 Oct 2020 05:03:02 GMT', 'Connection': 'close'}"
     ]
    }
   ],
   "source": [
    "%%time\n",
    "result = line.send(roomId = sampleInput['roomId'], message= sampleInput['message'])\n",
    "print(result)"
   ]
  },
  {
   "cell_type": "markdown",
   "metadata": {},
   "source": [
    "## SendNotify"
   ]
  },
  {
   "cell_type": "code",
   "execution_count": null,
   "metadata": {},
   "outputs": [
    {
     "name": "stdout",
     "output_type": "stream",
     "text": [
      "CPU times: user 13.3 ms, sys: 64 µs, total: 13.4 ms\n",
      "Wall time: 311 ms\n"
     ]
    },
    {
     "data": {
      "text/plain": [
       "'{\"status\":200,\"message\":\"ok\"}'"
      ]
     },
     "execution_count": null,
     "metadata": {},
     "output_type": "execute_result"
    }
   ],
   "source": [
    "%%time\n",
    "result = line.sendNotify(message = 'nothing', token = 'ECycqerh1xQKGlXAb2qifyz39A0GW8LHyX1hBBFSQGl')\n",
    "result.text"
   ]
  },
  {
   "cell_type": "markdown",
   "metadata": {},
   "source": [
    "## Lambda"
   ]
  },
  {
   "cell_type": "code",
   "execution_count": null,
   "metadata": {},
   "outputs": [],
   "source": [
    "%%time\n",
    "result = Line.lambdaSend(sampleInput, '')"
   ]
  },
  {
   "cell_type": "markdown",
   "metadata": {},
   "source": [
    "# Call function using deployed Lambda function"
   ]
  },
  {
   "cell_type": "code",
   "execution_count": null,
   "metadata": {},
   "outputs": [],
   "source": [
    "%%time\n",
    "lineLambda = LineLambda(USER, PW)\n",
    "lineLambda.send(message='hello', roomId = sampleInput['roomId'])"
   ]
  },
  {
   "cell_type": "code",
   "execution_count": null,
   "metadata": {},
   "outputs": [],
   "source": []
  }
 ],
 "metadata": {
  "kernelspec": {
   "display_name": "python38",
   "language": "python",
   "name": "python38"
  }
 },
 "nbformat": 4,
 "nbformat_minor": 4
}
